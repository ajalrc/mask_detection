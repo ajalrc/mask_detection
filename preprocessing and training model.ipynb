{
 "cells": [
  {
   "cell_type": "code",
   "execution_count": 22,
   "id": "1f5d5827",
   "metadata": {},
   "outputs": [],
   "source": [
    "# import the necessary packages\n",
    "from tensorflow.keras.preprocessing.image import ImageDataGenerator\n",
    "from tensorflow.keras.applications import MobileNetV2\n",
    "from tensorflow.keras.layers import AveragePooling2D\n",
    "from tensorflow.keras.layers import Dropout\n",
    "from tensorflow.keras.layers import Flatten\n",
    "from tensorflow.keras.layers import Dense\n",
    "from tensorflow.keras.layers import Input\n",
    "from tensorflow.keras.models import Model\n",
    "from tensorflow.keras.optimizers import Adam\n",
    "from tensorflow.keras.applications.mobilenet_v2 import preprocess_input\n",
    "from tensorflow.keras.preprocessing.image import img_to_array\n",
    "from tensorflow.keras.preprocessing.image import load_img\n",
    "from tensorflow.keras.utils import to_categorical\n",
    "from sklearn.preprocessing import LabelBinarizer\n",
    "from sklearn.model_selection import train_test_split\n",
    "from sklearn.metrics import classification_report\n",
    "from imutils import paths\n",
    "import matplotlib.pyplot as plt\n",
    "import numpy as np\n",
    "import argparse\n",
    "import os\n",
    "import time"
   ]
  },
  {
   "cell_type": "code",
   "execution_count": 23,
   "id": "e64ea894",
   "metadata": {},
   "outputs": [],
   "source": [
    "# initialize the initial learning rate, number of epochs to train for,\n",
    "# and batch size\n",
    "INIT_LR = 1e-4 #lowest learning rate.\n",
    "EPOCHS = 2\n",
    "BS = 32"
   ]
  },
  {
   "cell_type": "code",
   "execution_count": 24,
   "id": "72860434",
   "metadata": {},
   "outputs": [
    {
     "name": "stdout",
     "output_type": "stream",
     "text": [
      "[INFO] loading images...\n"
     ]
    }
   ],
   "source": [
    "# grab the list of images in our dataset directory, then initialize\n",
    "# the list of data (i.e., images) and class images\n",
    "print(\"[INFO] loading images...\")\n",
    "imagePaths = list(paths.list_images(\"dataset\"))\n",
    "data = []\n",
    "labels = []"
   ]
  },
  {
   "cell_type": "code",
   "execution_count": 25,
   "id": "85ff6b63",
   "metadata": {},
   "outputs": [
    {
     "name": "stderr",
     "output_type": "stream",
     "text": [
      "c:\\users\\ajalr\\appdata\\local\\programs\\python\\python38\\lib\\site-packages\\PIL\\Image.py:975: UserWarning: Palette images with Transparency expressed in bytes should be converted to RGBA images\n",
      "  warnings.warn(\n"
     ]
    }
   ],
   "source": [
    "# loop over the image paths\n",
    "for imagePath in imagePaths:\n",
    "    # extract the class label from the filename\n",
    "    label = imagePath.split(os.path.sep)[-2]# label with_mask, without_mask\n",
    "    #print(label)\n",
    "\n",
    "    # load the input image (224x224) and preprocess it\n",
    "    image = load_img(imagePath, target_size=(224, 224))\n",
    "    image = img_to_array(image)\n",
    "    image = preprocess_input(image)#normalizing the image so it won't have any\n",
    "    #biasnes data dependent pretrained weights\n",
    "    #print(image)\n",
    "\n",
    "    # update the data and labels lists, respectively\n",
    "    data.append(image)\n",
    "    labels.append(label)"
   ]
  },
  {
   "cell_type": "code",
   "execution_count": 26,
   "id": "56ab7c2a",
   "metadata": {},
   "outputs": [],
   "source": [
    "# convert the data and labels to NumPy arrays\n",
    "data = np.array(data, dtype=\"float32\")\n",
    "labels = np.array(labels)\n"
   ]
  },
  {
   "cell_type": "code",
   "execution_count": 27,
   "id": "efe3600a",
   "metadata": {},
   "outputs": [
    {
     "name": "stdout",
     "output_type": "stream",
     "text": [
      "[[0. 1.]\n",
      " [0. 1.]\n",
      " [0. 1.]\n",
      " ...\n",
      " [1. 0.]\n",
      " [1. 0.]\n",
      " [1. 0.]]\n"
     ]
    }
   ],
   "source": [
    "# perform one-hot encoding on the labels\n",
    "lb = LabelBinarizer() #creates a binary labels for class or no class\n",
    "labels = lb.fit_transform(labels)\n",
    "labels = to_categorical(labels)\n",
    "print(labels)\n",
    "#the first without mask is [0 1]; 0 = without mask, 1 = with mask, rows equal\n",
    "#length of input vector and column equals number of classes."
   ]
  },
  {
   "cell_type": "code",
   "execution_count": 28,
   "id": "ce00a739",
   "metadata": {},
   "outputs": [],
   "source": [
    "# partition the data into training and testing splits using 80% of\n",
    "# the data for training and the remaining 20% for testing\n",
    "(trainX, testX, trainY, testY) = train_test_split(data, labels,\n",
    "test_size=0.20, stratify=labels, random_state=42) #use of strarify=labes makes\n",
    "#sure that the random split has 25% zeros and 75% ones\n",
    "#https://scikit-learn.org/stable/modules/generated/sklearn.model_selection.train_test_split.html"
   ]
  },
  {
   "cell_type": "code",
   "execution_count": 29,
   "id": "62fa1b33",
   "metadata": {},
   "outputs": [],
   "source": [
    "# construct the training image generator for data augmentation\n",
    "aug = ImageDataGenerator(\n",
    "    rotation_range=20,zoom_range=0.15,width_shift_range=0.2,height_shift_range=0.2,shear_range=0.15,horizontal_flip=True,fill_mode=\"nearest\")\n"
   ]
  },
  {
   "cell_type": "code",
   "execution_count": 30,
   "id": "91cd1ac0",
   "metadata": {},
   "outputs": [
    {
     "name": "stdout",
     "output_type": "stream",
     "text": [
      "WARNING:tensorflow:`input_shape` is undefined or non-square, or `rows` is not in [96, 128, 160, 192, 224]. Weights for input shape (224, 224) will be loaded as the default.\n"
     ]
    }
   ],
   "source": [
    "'''\n",
    "for the image classification we will be using a pre-trained neural classfication\n",
    "model called Mobilenet. It was created for computer vision classification where\n",
    "the pixel from input image is converted into features/weights that defines the \n",
    "contents of the image. It was trained with 1.4 million images to seperated \n",
    "1000 images.\n",
    "'''\n",
    "# load the MobileNetV2 network, ensuring the head FC layer sets are\n",
    "# left off\n",
    "baseModel = MobileNetV2(weights=\"imagenet\", include_top=False,\n",
    "                        input_tensor=Input(shape=(224, 224, 3)))\n"
   ]
  },
  {
   "cell_type": "code",
   "execution_count": 31,
   "id": "f0001f4a",
   "metadata": {},
   "outputs": [],
   "source": [
    "'''\n",
    "Flatten layer: changes the matrix into a single array. i.e in our image of 224\n",
    "* 224, to feed this multidimensional data we flatten this out to be 50,176 nodes/\n",
    "neurons for further processing.\n",
    "\n",
    "Dense layer:It is just the other name of hidden layers in Neural network. \n",
    "Syntax: keras.layers.Dense(units,activation = None), units is the output size\n",
    "which in our case is 1 (0,1) (either mask or not)\n",
    "\n",
    "Activation('sigmoid') layer: It is just a function that helps us to classify\n",
    "the output of the function in either yes or no. 2 type liner and non linear\n",
    "activation function and sigmoid is a non linear one equivalent to logistic re\n",
    "-gression.\n",
    "\n",
    "Dropout layer: It is a technique to dropping out nodes to prevent it from \n",
    "overoptiizing the weight and preventing overfitting without affecting other\n",
    "nodes.\n",
    "\n",
    "AveragePooling2D: It is a technique to downscale the pixel intensity from previous\n",
    "layer to increase the performance.\n",
    "Detail:https://www.machinecurve.com/index.php/2020/01/30/what-are-max-pooling-average-pooling-global-max-pooling-and-global-average-pooling/#what-are-pooling-operations\n",
    "'''\n",
    "# construct the head of the model that will be placed on top of the\n",
    "# the base model\n",
    "headModel = baseModel.output\n",
    "headModel = AveragePooling2D(pool_size=(7, 7))(headModel) \n",
    "headModel = Flatten(name=\"flatten\")(headModel)\n",
    "headModel = Dense(128, activation=\"relu\")(headModel)#relu is a better performace\n",
    "#activation function than sigmoid.\n",
    "headModel = Dropout(0.5)(headModel)\n",
    "headModel = Dense(2, activation=\"softmax\")(headModel)"
   ]
  },
  {
   "cell_type": "code",
   "execution_count": 32,
   "id": "1a5f5c76",
   "metadata": {},
   "outputs": [],
   "source": [
    "# place the head FC model on top of the base model (this will become\n",
    "# the actual model we will train)\n",
    "model = Model(inputs=baseModel.input, outputs=headModel)\n"
   ]
  },
  {
   "cell_type": "code",
   "execution_count": 33,
   "id": "58e5bb0a",
   "metadata": {},
   "outputs": [],
   "source": [
    "# loop over all layers in the base model and freeze them so they will\n",
    "# *not* be updated during the first training process\n",
    "for layer in baseModel.layers:\n",
    "\tlayer.trainable = False"
   ]
  },
  {
   "cell_type": "code",
   "execution_count": 34,
   "id": "177a596b",
   "metadata": {},
   "outputs": [
    {
     "name": "stdout",
     "output_type": "stream",
     "text": [
      "[INFO] evaluating network...\n",
      "[INFO] compiling model...\n",
      "[INFO] training head...\n",
      "Epoch 1/2\n",
      "102/102 [==============================] - 207s 2s/step - loss: 0.4222 - accuracy: 0.8315 - val_loss: 0.1490 - val_accuracy: 0.9805\n",
      "Epoch 2/2\n",
      "102/102 [==============================] - 200s 2s/step - loss: 0.1556 - accuracy: 0.9617 - val_loss: 0.0826 - val_accuracy: 0.9841\n"
     ]
    }
   ],
   "source": [
    "'''\n",
    "Loss function: The use of the loss function in keras is to compute the quantity\n",
    "that our model seek to minimize. It can be implemented via a class or function\n",
    "handle. ex: BinaryCrossentrophy, CategorialCrossentrophy and many more.\n",
    "\n",
    "Binary_crossentrophy: a class in loss function to minmize the loss between the \n",
    "predicted label and the true label. Should be a binary application(Mask or No\n",
    "Mask)\n",
    "\n",
    "Optimizers: Kathematical functions used to change the attributes of the neural\n",
    "networks like weights/params and learning rate to reduce losses. ex: ADAM (adap\n",
    "tive moment estimation), extension to stochastic gradient descent famous in \n",
    "deep learning and natural language processsing\n",
    "\n",
    "Metrics: Keras metrics are functions that are used to evaluate the performance\n",
    "of your deep learning model.ex: binary accuracy, categorialaccuracy etc. \n",
    "THE USE OF ACCURACY IN GENERAL IMPLIES THAT THE KERAS IS SMART ENOUGH TO CHOOSE\n",
    "THE METRICS DEPENDING ON OUR TYPE OF LOSS.\n",
    "\n",
    "'''\n",
    "# make predictions on the testing set\n",
    "print(\"[INFO] evaluating network...\")\n",
    "predIdxs = model.predict(testX, batch_size=BS)\n",
    "# compile our model\n",
    "print(\"[INFO] compiling model...\")\n",
    "opt = Adam(learning_rate=INIT_LR, decay=INIT_LR / EPOCHS)\n",
    "model.compile(loss=\"binary_crossentropy\", optimizer=opt,metrics=[\"accuracy\"])\n",
    "\n",
    "# train the head of the network\n",
    "print(\"[INFO] training head...\")\n",
    "H = model.fit(aug.flow(trainX, trainY, batch_size=BS),steps_per_epoch=len(trainX) // BS,validation_data=(testX, testY),validation_steps=len(testX) // BS,epochs=EPOCHS)\n"
   ]
  },
  {
   "cell_type": "code",
   "execution_count": 35,
   "id": "400328a9",
   "metadata": {},
   "outputs": [
    {
     "name": "stdout",
     "output_type": "stream",
     "text": [
      "[INFO] evaluating network...\n"
     ]
    }
   ],
   "source": [
    "# make predictions on the testing set\n",
    "print(\"[INFO] evaluating network...\")\n",
    "predIdxs = model.predict(testX, batch_size=BS)"
   ]
  },
  {
   "cell_type": "code",
   "execution_count": 36,
   "id": "1fe6d396",
   "metadata": {},
   "outputs": [],
   "source": [
    "# for each image in the testing set we need to find the index of the\n",
    "# label with corresponding largest predicted probability\n",
    "predIdxs = np.argmax(predIdxs, axis=1)"
   ]
  },
  {
   "cell_type": "code",
   "execution_count": 37,
   "id": "f91fee2b",
   "metadata": {},
   "outputs": [
    {
     "data": {
      "text/plain": [
       "(819,)"
      ]
     },
     "execution_count": 37,
     "metadata": {},
     "output_type": "execute_result"
    }
   ],
   "source": [
    "testY.argmax(axis=1).shape"
   ]
  },
  {
   "cell_type": "code",
   "execution_count": 38,
   "id": "4a6102b0",
   "metadata": {},
   "outputs": [
    {
     "name": "stdout",
     "output_type": "stream",
     "text": [
      "              precision    recall  f1-score   support\n",
      "\n",
      "   with_mask       0.98      0.99      0.99       433\n",
      "without_mask       0.99      0.98      0.98       386\n",
      "\n",
      "    accuracy                           0.98       819\n",
      "   macro avg       0.98      0.98      0.98       819\n",
      "weighted avg       0.98      0.98      0.98       819\n",
      "\n"
     ]
    }
   ],
   "source": [
    "#show a nicely formatted classification report\n",
    "'''\n",
    "testY.argmax(axis=1): True data that we divided above\n",
    "predIdxs: predicted data from the classifier\n",
    "target_names: the file names where our data lies.\n",
    "returns:\n",
    "support: the occurave of each label, macro and weighted are different averages\n",
    "for teh accuracy.\n",
    "'''\n",
    "print(classification_report(testY.argmax(axis=1), predIdxs,target_names=lb.classes_))\n"
   ]
  },
  {
   "cell_type": "code",
   "execution_count": 39,
   "id": "a4c15214",
   "metadata": {},
   "outputs": [
    {
     "name": "stdout",
     "output_type": "stream",
     "text": [
      "[INFO] saving mask detector model...\n"
     ]
    }
   ],
   "source": [
    "'''\n",
    "we can also save this model and use it on any test example\n",
    ".h5 indicated the Hierarchical data format containing multidimensional arrays \n",
    "of scientific data\n",
    "'''\n",
    "print(\"[INFO] saving mask detector model...\")\n",
    "model.save(\"mask_detector.model\", save_format=\"h5\")"
   ]
  },
  {
   "cell_type": "code",
   "execution_count": 40,
   "id": "4c8bdad4",
   "metadata": {},
   "outputs": [
    {
     "data": {
      "text/plain": [
       "{'loss': [0.42216184735298157, 0.155570387840271],\n",
       " 'accuracy': [0.8315334916114807, 0.9617401957511902],\n",
       " 'val_loss': [0.14903950691223145, 0.08259649574756622],\n",
       " 'val_accuracy': [0.980463981628418, 0.9841269850730896]}"
      ]
     },
     "execution_count": 40,
     "metadata": {},
     "output_type": "execute_result"
    }
   ],
   "source": [
    "#the result from our modified model built on top of the base model.\n",
    "H.history"
   ]
  },
  {
   "cell_type": "code",
   "execution_count": 41,
   "id": "9339a805",
   "metadata": {},
   "outputs": [
    {
     "data": {
      "text/plain": [
       "<matplotlib.legend.Legend at 0x1a856a629d0>"
      ]
     },
     "execution_count": 41,
     "metadata": {},
     "output_type": "execute_result"
    },
    {
     "data": {
      "image/png": "[encoded data removed]",
      "text/plain": [
       "<Figure size 432x288 with 1 Axes>"
      ]
     },
     "metadata": {},
     "output_type": "display_data"
    }
   ],
   "source": [
    "# plot the training loss and accuracy\n",
    "N = EPOCHS\n",
    "plt.style.use(\"ggplot\")\n",
    "plt.figure()\n",
    "plt.plot(np.arange(0, N), H.history[\"loss\"], label=\"train_loss\")\n",
    "plt.plot(np.arange(0, N), H.history[\"val_loss\"], label=\"val_loss\")\n",
    "plt.plot(np.arange(0, N), H.history[\"accuracy\"], label=\"train_acc\")\n",
    "plt.plot(np.arange(0, N), H.history[\"val_accuracy\"], label=\"val_acc\")\n",
    "plt.title(\"Training Loss and Accuracy\")\n",
    "plt.xlabel(\"Epoch #\")\n",
    "plt.ylabel(\"Loss/Accuracy\")\n",
    "plt.legend(loc=\"lower left\")\n",
    "\n"
   ]
  },
  {
   "cell_type": "code",
   "execution_count": null,
   "id": "b8f324fa",
   "metadata": {},
   "outputs": [],
   "source": []
  },
  {
   "cell_type": "code",
   "execution_count": null,
   "id": "b19981eb",
   "metadata": {},
   "outputs": [],
   "source": []
  },
  {
   "cell_type": "code",
   "execution_count": null,
   "id": "7e416d7f",
   "metadata": {},
   "outputs": [],
   "source": []
  }
 ],
 "metadata": {
  "kernelspec": {
   "display_name": "Python 3 (ipykernel)",
   "language": "python",
   "name": "python3"
  },
  "language_info": {
   "codemirror_mode": {
    "name": "ipython",
    "version": 3
   },
   "file_extension": ".py",
   "mimetype": "text/x-python",
   "name": "python",
   "nbconvert_exporter": "python",
   "pygments_lexer": "ipython3",
   "version": "3.8.10"
  }
 },
 "nbformat": 4,
 "nbformat_minor": 5
}
